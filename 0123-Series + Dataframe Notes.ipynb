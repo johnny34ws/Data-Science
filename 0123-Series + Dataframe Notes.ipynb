{
 "cells": [
  {
   "cell_type": "code",
   "execution_count": 44,
   "metadata": {},
   "outputs": [],
   "source": [
    "#教学笔记：Series and Dataframe"
   ]
  },
  {
   "cell_type": "code",
   "execution_count": 45,
   "metadata": {},
   "outputs": [
    {
     "name": "stdout",
     "output_type": "stream",
     "text": [
      "0       usa\n",
      "1     china\n",
      "2    canada\n",
      "3    france\n",
      "dtype: object a       usa\n",
      "b     china\n",
      "c    canada\n",
      "d    france\n",
      "dtype: object a    1\n",
      "b    2\n",
      "dtype: int64\n"
     ]
    }
   ],
   "source": [
    "#Series\n",
    "import numpy as np\n",
    "import pandas as pd\n",
    "\n",
    "#Creating one (3 ways)\n",
    "data = ['usa','china','canada','france']\n",
    "label = ['a','b','c','d']\n",
    "dic = {'a':1,'b':2}\n",
    "f1 = pd.Series(data)\n",
    "f2 = pd.Series(data,label)\n",
    "f3 = pd.Series(dic)\n",
    "print(f1,f2,f3)\n"
   ]
  },
  {
   "cell_type": "code",
   "execution_count": 46,
   "metadata": {},
   "outputs": [
    {
     "name": "stdout",
     "output_type": "stream",
     "text": [
      "a    22\n",
      "b    33\n",
      "c    44\n",
      "d    55\n",
      "dtype: int64\n",
      "22\n",
      "a    55\n",
      "b    66\n",
      "c    88\n",
      "d    77\n",
      "dtype: int64\n"
     ]
    }
   ],
   "source": [
    "#Using Index\n",
    "f1 = pd.Series([22,33,44,55],index=['a','b','c','d'])\n",
    "f2 = pd.Series([33,33,44,22],index=['a','b','c','d'])\n",
    "print(f1)\n",
    "print(f1['a'])\n",
    "print(f1+f2)"
   ]
  },
  {
   "cell_type": "code",
   "execution_count": 47,
   "metadata": {},
   "outputs": [
    {
     "name": "stdout",
     "output_type": "stream",
     "text": [
      "          w         x         y         z\n",
      "a  2.706850  0.628133  0.907969  0.503826\n",
      "b  0.651118 -0.319318 -0.848077  0.605965\n",
      "c -2.018168  0.740122  0.528813 -0.589001\n",
      "a    2.706850\n",
      "b    0.651118\n",
      "c   -2.018168\n",
      "Name: w, dtype: float64\n",
      "          w         y\n",
      "a  2.706850  0.907969\n",
      "b  0.651118 -0.848077\n",
      "c -2.018168  0.528813\n"
     ]
    }
   ],
   "source": [
    "#Dataframe\n",
    "from numpy.random import randn\n",
    "np.random.seed(101)\n",
    "\n",
    "#创建\n",
    "df = pd.DataFrame(randn(3,4),['a','b','c'],['w','x','y','z'])\n",
    "print(df)\n",
    "print(df['w']) #df['w'] itself is a panda series\n",
    "print(df[['w','y']])  #specific columns\n",
    "\n"
   ]
  },
  {
   "cell_type": "code",
   "execution_count": 48,
   "metadata": {},
   "outputs": [
    {
     "name": "stdout",
     "output_type": "stream",
     "text": [
      "          w         x         y         z       new\n",
      "a  2.706850  0.628133  0.907969  0.503826  0.223989\n",
      "b  0.651118 -0.319318 -0.848077  0.605965  1.134724\n",
      "c -2.018168  0.740122  0.528813 -0.589001 -0.377692\n",
      "          w         y         z       new\n",
      "a  2.706850  0.907969  0.503826  0.223989\n",
      "b  0.651118 -0.848077  0.605965  1.134724\n",
      "c -2.018168  0.528813 -0.589001 -0.377692\n"
     ]
    }
   ],
   "source": [
    "#编辑\n",
    "df['new'] = df['x'] + df['z'] - df['y']\n",
    "print(df)\n",
    "#若为0则为row，而非column；同时设定inplace才可删除\n",
    "df.drop('x',axis=1,inplace=True)  \n",
    "print(df)"
   ]
  },
  {
   "cell_type": "code",
   "execution_count": 49,
   "metadata": {},
   "outputs": [
    {
     "name": "stdout",
     "output_type": "stream",
     "text": [
      "w      2.706850\n",
      "y      0.907969\n",
      "z      0.503826\n",
      "new    0.223989\n",
      "Name: a, dtype: float64\n",
      "w     -2.018168\n",
      "y      0.528813\n",
      "z     -0.589001\n",
      "new   -0.377692\n",
      "Name: c, dtype: float64\n"
     ]
    },
    {
     "data": {
      "text/html": [
       "<div>\n",
       "<style scoped>\n",
       "    .dataframe tbody tr th:only-of-type {\n",
       "        vertical-align: middle;\n",
       "    }\n",
       "\n",
       "    .dataframe tbody tr th {\n",
       "        vertical-align: top;\n",
       "    }\n",
       "\n",
       "    .dataframe thead th {\n",
       "        text-align: right;\n",
       "    }\n",
       "</style>\n",
       "<table border=\"1\" class=\"dataframe\">\n",
       "  <thead>\n",
       "    <tr style=\"text-align: right;\">\n",
       "      <th></th>\n",
       "      <th>y</th>\n",
       "      <th>z</th>\n",
       "    </tr>\n",
       "  </thead>\n",
       "  <tbody>\n",
       "    <tr>\n",
       "      <th>b</th>\n",
       "      <td>-0.848077</td>\n",
       "      <td>0.605965</td>\n",
       "    </tr>\n",
       "    <tr>\n",
       "      <th>a</th>\n",
       "      <td>0.907969</td>\n",
       "      <td>0.503826</td>\n",
       "    </tr>\n",
       "  </tbody>\n",
       "</table>\n",
       "</div>"
      ],
      "text/plain": [
       "          y         z\n",
       "b -0.848077  0.605965\n",
       "a  0.907969  0.503826"
      ]
     },
     "execution_count": 49,
     "metadata": {},
     "output_type": "execute_result"
    }
   ],
   "source": [
    "#提取数据\n",
    "df.shape\n",
    "#提取其中一行，也是Series(2 ways)\n",
    "print(df.loc['a'])\n",
    "print(df.iloc[2]) #第三行\n",
    "\n",
    "df.loc[['b','a'],['y','z']] #某几个精确数据，左行右列"
   ]
  },
  {
   "cell_type": "code",
   "execution_count": 56,
   "metadata": {},
   "outputs": [
    {
     "name": "stdout",
     "output_type": "stream",
     "text": [
      "       w      y      z    new\n",
      "a   True   True   True   True\n",
      "b   True  False   True   True\n",
      "c  False   True  False  False\n",
      "          w         y         z       new\n",
      "a  2.706850  0.907969  0.503826  0.223989\n",
      "b  0.651118       NaN  0.605965  1.134724\n",
      "c       NaN  0.528813       NaN       NaN\n",
      "          w         y         z       new\n",
      "a  2.706850  0.907969  0.503826  0.223989\n",
      "b  0.651118 -0.848077  0.605965  1.134724\n",
      "          y         z\n",
      "a  0.907969  0.503826\n",
      "b -0.848077  0.605965\n"
     ]
    },
    {
     "data": {
      "text/html": [
       "<div>\n",
       "<style scoped>\n",
       "    .dataframe tbody tr th:only-of-type {\n",
       "        vertical-align: middle;\n",
       "    }\n",
       "\n",
       "    .dataframe tbody tr th {\n",
       "        vertical-align: top;\n",
       "    }\n",
       "\n",
       "    .dataframe thead th {\n",
       "        text-align: right;\n",
       "    }\n",
       "</style>\n",
       "<table border=\"1\" class=\"dataframe\">\n",
       "  <thead>\n",
       "    <tr style=\"text-align: right;\">\n",
       "      <th></th>\n",
       "      <th>w</th>\n",
       "      <th>y</th>\n",
       "      <th>z</th>\n",
       "      <th>new</th>\n",
       "    </tr>\n",
       "  </thead>\n",
       "  <tbody>\n",
       "    <tr>\n",
       "      <th>a</th>\n",
       "      <td>2.706850</td>\n",
       "      <td>0.907969</td>\n",
       "      <td>0.503826</td>\n",
       "      <td>0.223989</td>\n",
       "    </tr>\n",
       "    <tr>\n",
       "      <th>b</th>\n",
       "      <td>0.651118</td>\n",
       "      <td>-0.848077</td>\n",
       "      <td>0.605965</td>\n",
       "      <td>1.134724</td>\n",
       "    </tr>\n",
       "  </tbody>\n",
       "</table>\n",
       "</div>"
      ],
      "text/plain": [
       "          w         y         z       new\n",
       "a  2.706850  0.907969  0.503826  0.223989\n",
       "b  0.651118 -0.848077  0.605965  1.134724"
      ]
     },
     "execution_count": 56,
     "metadata": {},
     "output_type": "execute_result"
    }
   ],
   "source": [
    "#df中的数据选择，判断(single conditions)\n",
    "booldf = df > 0\n",
    "print(booldf)\n",
    "print(df[booldf])  #使得非自然数变成null\n",
    "\n",
    "df['w'] > 0\n",
    "print(df[df['w']>0]) #删除w列中的非自然数\n",
    "print(df[df['w']>0][['y','z']])  #找到y和z列中符合上面条件的数据\n",
    "\n",
    "df[(df['w']>0) & (df['z']<1)]   #multiple constraints\n",
    "\n"
   ]
  },
  {
   "cell_type": "code",
   "execution_count": 64,
   "metadata": {},
   "outputs": [
    {
     "data": {
      "text/html": [
       "<div>\n",
       "<style scoped>\n",
       "    .dataframe tbody tr th:only-of-type {\n",
       "        vertical-align: middle;\n",
       "    }\n",
       "\n",
       "    .dataframe tbody tr th {\n",
       "        vertical-align: top;\n",
       "    }\n",
       "\n",
       "    .dataframe thead th {\n",
       "        text-align: right;\n",
       "    }\n",
       "</style>\n",
       "<table border=\"1\" class=\"dataframe\">\n",
       "  <thead>\n",
       "    <tr style=\"text-align: right;\">\n",
       "      <th></th>\n",
       "      <th>w</th>\n",
       "      <th>y</th>\n",
       "      <th>z</th>\n",
       "      <th>new</th>\n",
       "    </tr>\n",
       "    <tr>\n",
       "      <th>parts</th>\n",
       "      <th></th>\n",
       "      <th></th>\n",
       "      <th></th>\n",
       "      <th></th>\n",
       "    </tr>\n",
       "  </thead>\n",
       "  <tbody>\n",
       "    <tr>\n",
       "      <th>AA</th>\n",
       "      <td>2.706850</td>\n",
       "      <td>0.907969</td>\n",
       "      <td>0.503826</td>\n",
       "      <td>0.223989</td>\n",
       "    </tr>\n",
       "    <tr>\n",
       "      <th>JA</th>\n",
       "      <td>0.651118</td>\n",
       "      <td>-0.848077</td>\n",
       "      <td>0.605965</td>\n",
       "      <td>1.134724</td>\n",
       "    </tr>\n",
       "    <tr>\n",
       "      <th>FG</th>\n",
       "      <td>-2.018168</td>\n",
       "      <td>0.528813</td>\n",
       "      <td>-0.589001</td>\n",
       "      <td>-0.377692</td>\n",
       "    </tr>\n",
       "  </tbody>\n",
       "</table>\n",
       "</div>"
      ],
      "text/plain": [
       "              w         y         z       new\n",
       "parts                                        \n",
       "AA     2.706850  0.907969  0.503826  0.223989\n",
       "JA     0.651118 -0.848077  0.605965  1.134724\n",
       "FG    -2.018168  0.528813 -0.589001 -0.377692"
      ]
     },
     "execution_count": 64,
     "metadata": {},
     "output_type": "execute_result"
    }
   ],
   "source": [
    "df.reset_index()   #加入新列index (代表原来的abcd)\n",
    "newindex = 'AA JA FG'.split()\n",
    "df['parts'] = newindex\n",
    "df.set_index('parts') #指定列作为index\n",
    "\n"
   ]
  },
  {
   "cell_type": "code",
   "execution_count": 70,
   "metadata": {},
   "outputs": [
    {
     "name": "stdout",
     "output_type": "stream",
     "text": [
      "             A         B\n",
      "A1 1 -1.382920  1.482495\n",
      "   2  0.961458 -2.141212\n",
      "   3  0.992573  1.192241\n",
      "A2 1 -1.046780  1.292765\n",
      "   2 -1.467514 -0.494095\n",
      "   3 -0.162535  0.485809\n"
     ]
    }
   ],
   "source": [
    "#Index levels (多层)\n",
    "#用数组创造一个dataframe\n",
    "index = list(zip(['A1','A1','A1','A2','A2','A2'],[1,2,3,1,2,3]))\n",
    "index = pd.MultiIndex.from_tuples(index)  #从数组创建multiindex\n",
    "\n",
    "df = pd.DataFrame(randn(6,2),index,['A','B'])\n",
    "print(df)"
   ]
  },
  {
   "cell_type": "code",
   "execution_count": 76,
   "metadata": {},
   "outputs": [
    {
     "name": "stdout",
     "output_type": "stream",
     "text": [
      "            A         B\n",
      "num                    \n",
      "1   -1.382920  1.482495\n",
      "2    0.961458 -2.141212\n",
      "3    0.992573  1.192241\n",
      "1.48249549608345\n",
      "                   A         B\n",
      "Groups num                    \n",
      "A1     1   -1.382920  1.482495\n",
      "       2    0.961458 -2.141212\n",
      "       3    0.992573  1.192241\n",
      "A2     1   -1.046780  1.292765\n",
      "       2   -1.467514 -0.494095\n",
      "       3   -0.162535  0.485809\n"
     ]
    },
    {
     "data": {
      "text/html": [
       "<div>\n",
       "<style scoped>\n",
       "    .dataframe tbody tr th:only-of-type {\n",
       "        vertical-align: middle;\n",
       "    }\n",
       "\n",
       "    .dataframe tbody tr th {\n",
       "        vertical-align: top;\n",
       "    }\n",
       "\n",
       "    .dataframe thead th {\n",
       "        text-align: right;\n",
       "    }\n",
       "</style>\n",
       "<table border=\"1\" class=\"dataframe\">\n",
       "  <thead>\n",
       "    <tr style=\"text-align: right;\">\n",
       "      <th></th>\n",
       "      <th>A</th>\n",
       "      <th>B</th>\n",
       "    </tr>\n",
       "    <tr>\n",
       "      <th>Groups</th>\n",
       "      <th></th>\n",
       "      <th></th>\n",
       "    </tr>\n",
       "  </thead>\n",
       "  <tbody>\n",
       "    <tr>\n",
       "      <th>A1</th>\n",
       "      <td>-1.38292</td>\n",
       "      <td>1.482495</td>\n",
       "    </tr>\n",
       "    <tr>\n",
       "      <th>A2</th>\n",
       "      <td>-1.04678</td>\n",
       "      <td>1.292765</td>\n",
       "    </tr>\n",
       "  </tbody>\n",
       "</table>\n",
       "</div>"
      ],
      "text/plain": [
       "              A         B\n",
       "Groups                   \n",
       "A1     -1.38292  1.482495\n",
       "A2     -1.04678  1.292765"
      ]
     },
     "execution_count": 76,
     "metadata": {},
     "output_type": "execute_result"
    }
   ],
   "source": [
    "#多维数据的查找\n",
    "print(df.loc['A1'])\n",
    "print(df.loc['A1'].loc[1]['B'])  \n",
    "\n",
    "df.index.names = ['Groups','num'] #给A1和A2加上小标题\n",
    "print(df)\n",
    "\n",
    "df.xs(1,level='num')  #Cross section 每个num=1的行\n"
   ]
  }
 ],
 "metadata": {
  "kernelspec": {
   "display_name": "Python 3",
   "language": "python",
   "name": "python3"
  },
  "language_info": {
   "codemirror_mode": {
    "name": "ipython",
    "version": 3
   },
   "file_extension": ".py",
   "mimetype": "text/x-python",
   "name": "python",
   "nbconvert_exporter": "python",
   "pygments_lexer": "ipython3",
   "version": "3.9.1"
  },
  "orig_nbformat": 4
 },
 "nbformat": 4,
 "nbformat_minor": 2
}
